{
  "cells": [
    {
      "cell_type": "markdown",
      "metadata": {
        "id": "_ELeuR5V_Mlr"
      },
      "source": [
        "# PW2\n",
        "### Numpy revision and image basics with OpenCV"
      ]
    },
    {
      "cell_type": "code",
      "execution_count": null,
      "metadata": {
        "id": "ozTAypui_Mls"
      },
      "outputs": [],
      "source": [
        "import numpy as np"
      ]
    },
    {
      "cell_type": "markdown",
      "metadata": {
        "id": "amLJr63e_Mlt"
      },
      "source": [
        "## Creating Arrays"
      ]
    },
    {
      "cell_type": "code",
      "execution_count": null,
      "metadata": {
        "id": "_vjwOPg-_Mlt"
      },
      "outputs": [],
      "source": [
        "arr=np.array([0,1,2,3,4])"
      ]
    },
    {
      "cell_type": "code",
      "execution_count": null,
      "metadata": {
        "colab": {
          "base_uri": "https://localhost:8080/"
        },
        "id": "ZsOkdDJ7_Mlt",
        "outputId": "7f7738bb-b36d-43cb-c06b-ba7c52b12624"
      },
      "outputs": [
        {
          "output_type": "execute_result",
          "data": {
            "text/plain": [
              "array([0, 1, 2, 3, 4])"
            ]
          },
          "metadata": {},
          "execution_count": 40
        }
      ],
      "source": [
        "arr"
      ]
    },
    {
      "cell_type": "code",
      "execution_count": null,
      "metadata": {
        "colab": {
          "base_uri": "https://localhost:8080/"
        },
        "id": "rRpOuIKg_Mlt",
        "outputId": "701d6c0a-2349-4b05-bd57-be456ab0684b"
      },
      "outputs": [
        {
          "output_type": "execute_result",
          "data": {
            "text/plain": [
              "array([0, 1, 2, 3, 4, 5, 6, 7, 8, 9])"
            ]
          },
          "metadata": {},
          "execution_count": 41
        }
      ],
      "source": [
        "#using arange\n",
        "array=np.arange(0,10)\n",
        "array\n"
      ]
    },
    {
      "cell_type": "code",
      "execution_count": null,
      "metadata": {
        "colab": {
          "base_uri": "https://localhost:8080/"
        },
        "id": "Y8h-nszi_Mlt",
        "outputId": "93406ff6-cc5f-4629-df1c-5fb45be220e2"
      },
      "outputs": [
        {
          "output_type": "execute_result",
          "data": {
            "text/plain": [
              "array([0, 2, 4, 6, 8])"
            ]
          },
          "metadata": {},
          "execution_count": 42
        }
      ],
      "source": [
        "#using arange\n",
        "np.arange(0,10,2)"
      ]
    },
    {
      "cell_type": "code",
      "execution_count": null,
      "metadata": {
        "colab": {
          "base_uri": "https://localhost:8080/"
        },
        "id": "ooX3v7yh_Mlt",
        "outputId": "4520df80-faf5-45cd-cc68-b3b3abda703e"
      },
      "outputs": [
        {
          "output_type": "execute_result",
          "data": {
            "text/plain": [
              "array([[0., 0., 0., 0., 0.],\n",
              "       [0., 0., 0., 0., 0.],\n",
              "       [0., 0., 0., 0., 0.],\n",
              "       [0., 0., 0., 0., 0.],\n",
              "       [0., 0., 0., 0., 0.]])"
            ]
          },
          "metadata": {},
          "execution_count": 43
        }
      ],
      "source": [
        "#zeros matrix\n",
        "np.zeros((5,5))"
      ]
    },
    {
      "cell_type": "code",
      "execution_count": null,
      "metadata": {
        "colab": {
          "base_uri": "https://localhost:8080/"
        },
        "id": "osKR6fty_Mlt",
        "outputId": "92a9e7fa-02ea-4263-90a8-6cf14ab8402b"
      },
      "outputs": [
        {
          "output_type": "execute_result",
          "data": {
            "text/plain": [
              "array([[1., 1., 1., 1.],\n",
              "       [1., 1., 1., 1.]])"
            ]
          },
          "metadata": {},
          "execution_count": 44
        }
      ],
      "source": [
        "#ones matrix\n",
        "np.ones((2,4))"
      ]
    },
    {
      "cell_type": "markdown",
      "metadata": {
        "id": "IL1dBxwn_Mlu"
      },
      "source": [
        "## Operations"
      ]
    },
    {
      "cell_type": "code",
      "execution_count": null,
      "metadata": {
        "id": "s9XqReWe_Mlu"
      },
      "outputs": [],
      "source": [
        "# a random array of 10 elements (elements between 0 and 100)\n",
        "arr=np.random.randint(0,100,10)"
      ]
    },
    {
      "cell_type": "code",
      "execution_count": null,
      "metadata": {
        "colab": {
          "base_uri": "https://localhost:8080/"
        },
        "id": "DyziiCmg_Mlu",
        "outputId": "5768295d-50fb-4f00-9265-bd19170519bb"
      },
      "outputs": [
        {
          "output_type": "execute_result",
          "data": {
            "text/plain": [
              "array([23, 62,  4,  3, 93, 80, 81, 82, 14, 65])"
            ]
          },
          "metadata": {},
          "execution_count": 46
        }
      ],
      "source": [
        "arr"
      ]
    },
    {
      "cell_type": "code",
      "execution_count": null,
      "metadata": {
        "id": "GV4ndrA1_Mlu"
      },
      "outputs": [],
      "source": [
        "#another array\n",
        "arr2=np.random.randint(0,100,10)"
      ]
    },
    {
      "cell_type": "code",
      "execution_count": null,
      "metadata": {
        "colab": {
          "base_uri": "https://localhost:8080/"
        },
        "id": "gigYXVI-_Mlu",
        "outputId": "5a66ea37-ecdb-4772-d525-9a50626de6c0"
      },
      "outputs": [
        {
          "output_type": "execute_result",
          "data": {
            "text/plain": [
              "array([ 6,  4, 12, 45, 62, 15, 85, 64,  0, 46])"
            ]
          },
          "metadata": {},
          "execution_count": 48
        }
      ],
      "source": [
        "arr2"
      ]
    },
    {
      "cell_type": "code",
      "execution_count": null,
      "metadata": {
        "colab": {
          "base_uri": "https://localhost:8080/"
        },
        "id": "PKrW0pHR_Mlu",
        "outputId": "d83915ac-aa79-4221-db35-e5e34d8ed9ce"
      },
      "outputs": [
        {
          "output_type": "execute_result",
          "data": {
            "text/plain": [
              "93"
            ]
          },
          "metadata": {},
          "execution_count": 49
        }
      ],
      "source": [
        "#max (the largest element within an array)\n",
        "max=np.max(arr)\n",
        "max"
      ]
    },
    {
      "cell_type": "code",
      "execution_count": null,
      "metadata": {
        "colab": {
          "base_uri": "https://localhost:8080/"
        },
        "id": "aB77L9ik_Mlu",
        "outputId": "5f169fb9-447f-4adb-c9f2-e0cae2a0e908"
      },
      "outputs": [
        {
          "output_type": "execute_result",
          "data": {
            "text/plain": [
              "3"
            ]
          },
          "metadata": {},
          "execution_count": 50
        }
      ],
      "source": [
        "#min (the smallest element within an array)\n",
        "min=np.min(arr)\n",
        "min"
      ]
    },
    {
      "cell_type": "code",
      "execution_count": null,
      "metadata": {
        "colab": {
          "base_uri": "https://localhost:8080/"
        },
        "id": "Ykjp20DI_Mlu",
        "outputId": "9fb459f1-5d70-4e49-91f1-fdc8a23331f0"
      },
      "outputs": [
        {
          "output_type": "execute_result",
          "data": {
            "text/plain": [
              "50.7"
            ]
          },
          "metadata": {},
          "execution_count": 51
        }
      ],
      "source": [
        "#mean: average of all elements\n",
        "mean=np.mean(arr)\n",
        "mean"
      ]
    },
    {
      "cell_type": "code",
      "execution_count": null,
      "metadata": {
        "colab": {
          "base_uri": "https://localhost:8080/"
        },
        "id": "S2AJj2Up_Mlu",
        "outputId": "2fd036a3-e040-4459-e4d7-08f5c325a9dc"
      },
      "outputs": [
        {
          "output_type": "execute_result",
          "data": {
            "text/plain": [
              "array([[23, 62,  4,  3, 93],\n",
              "       [80, 81, 82, 14, 65]])"
            ]
          },
          "metadata": {},
          "execution_count": 52
        }
      ],
      "source": [
        "#reshape (2,5)\n",
        "arr.reshape(2,5)"
      ]
    },
    {
      "cell_type": "markdown",
      "metadata": {
        "id": "jc83EJcm_Mlu"
      },
      "source": [
        "## Indexing"
      ]
    },
    {
      "cell_type": "code",
      "execution_count": null,
      "metadata": {
        "colab": {
          "base_uri": "https://localhost:8080/"
        },
        "id": "nKGoEec0_Mlu",
        "outputId": "1368d3e5-6db0-4b27-e2fc-9011fb3b0a01"
      },
      "outputs": [
        {
          "output_type": "execute_result",
          "data": {
            "text/plain": [
              "array([[84, 81, 57, 78, 79, 77,  1, 69, 13, 50],\n",
              "       [87, 24, 68,  3, 28, 60, 46, 51, 73, 82],\n",
              "       [63, 37, 66, 78, 18, 55, 78, 34, 15,  2],\n",
              "       [26, 19,  2, 13, 29, 65, 98, 96, 73, 20],\n",
              "       [56,  6, 55, 70, 60, 96, 62, 18, 17, 41],\n",
              "       [ 2, 21, 34, 89, 62, 86, 53, 26, 84, 56],\n",
              "       [64, 78, 94, 78, 93, 88, 45, 86, 77, 55],\n",
              "       [72, 76, 98, 44, 70, 30, 55, 44,  3, 70],\n",
              "       [87, 37, 61, 75, 84,  5, 95, 38, 83, 73],\n",
              "       [87, 75, 90, 63, 53, 90,  5, 41, 10,  3]])"
            ]
          },
          "metadata": {},
          "execution_count": 53
        }
      ],
      "source": [
        "#create a matrix 10x10\n",
        "mat = np.random.randint(0, 100, size=(10, 10))\n",
        "mat"
      ]
    },
    {
      "cell_type": "code",
      "execution_count": null,
      "metadata": {
        "id": "81sy0iAi_Mlu"
      },
      "outputs": [],
      "source": [
        "row = 0\n",
        "col = 1"
      ]
    },
    {
      "cell_type": "code",
      "execution_count": null,
      "metadata": {
        "colab": {
          "base_uri": "https://localhost:8080/"
        },
        "id": "Bpj9raKk_Mlu",
        "outputId": "d0b65c26-7028-4f82-9942-9db9e21de587"
      },
      "outputs": [
        {
          "output_type": "execute_result",
          "data": {
            "text/plain": [
              "81"
            ]
          },
          "metadata": {},
          "execution_count": 55
        }
      ],
      "source": [
        "mat[row,col]"
      ]
    },
    {
      "cell_type": "code",
      "execution_count": null,
      "metadata": {
        "colab": {
          "base_uri": "https://localhost:8080/"
        },
        "id": "EMWSTd3p_Mlu",
        "outputId": "07eb9a0a-6831-4b50-87b4-b529b42697cb"
      },
      "outputs": [
        {
          "output_type": "execute_result",
          "data": {
            "text/plain": [
              "array([81, 24, 37, 19,  6, 21, 78, 76, 37, 75])"
            ]
          },
          "metadata": {},
          "execution_count": 56
        }
      ],
      "source": [
        "# With Slices\n",
        "mat[:,col]"
      ]
    },
    {
      "cell_type": "code",
      "execution_count": null,
      "metadata": {
        "colab": {
          "base_uri": "https://localhost:8080/"
        },
        "id": "MQcV3bhK_Mlu",
        "outputId": "2054de45-e35d-4764-ab5f-3ad46d312e7b"
      },
      "outputs": [
        {
          "output_type": "execute_result",
          "data": {
            "text/plain": [
              "array([84, 81, 57, 78, 79, 77,  1, 69, 13, 50])"
            ]
          },
          "metadata": {},
          "execution_count": 57
        }
      ],
      "source": [
        "mat[row,:]"
      ]
    },
    {
      "cell_type": "code",
      "execution_count": null,
      "metadata": {
        "colab": {
          "base_uri": "https://localhost:8080/"
        },
        "id": "RowExhWN_Mlv",
        "outputId": "c859c410-f741-4f71-b3c0-f90a585e10cb"
      },
      "outputs": [
        {
          "output_type": "execute_result",
          "data": {
            "text/plain": [
              "array([[84, 81, 57],\n",
              "       [87, 24, 68],\n",
              "       [63, 37, 66]])"
            ]
          },
          "metadata": {},
          "execution_count": 58
        }
      ],
      "source": [
        "mat[0:3,0:3]"
      ]
    },
    {
      "cell_type": "code",
      "execution_count": null,
      "metadata": {
        "id": "R4RNtaXz_Mlv"
      },
      "outputs": [],
      "source": []
    },
    {
      "cell_type": "code",
      "execution_count": null,
      "metadata": {
        "id": "O6gIUoFY_Mlv"
      },
      "outputs": [],
      "source": []
    }
  ],
  "metadata": {
    "kernelspec": {
      "display_name": "Python 3 (ipykernel)",
      "language": "python",
      "name": "python3"
    },
    "language_info": {
      "codemirror_mode": {
        "name": "ipython",
        "version": 3
      },
      "file_extension": ".py",
      "mimetype": "text/x-python",
      "name": "python",
      "nbconvert_exporter": "python",
      "pygments_lexer": "ipython3",
      "version": "3.9.12"
    },
    "colab": {
      "provenance": []
    }
  },
  "nbformat": 4,
  "nbformat_minor": 0
}